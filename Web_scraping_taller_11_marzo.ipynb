{
 "cells": [
  {
   "cell_type": "code",
   "execution_count": 2,
   "metadata": {},
   "outputs": [],
   "source": [
    "# Taller #3: Web Scraping #Jessi#\n"
   ]
  },
  {
   "cell_type": "code",
   "execution_count": null,
   "metadata": {},
   "outputs": [],
   "source": [
    "# Punto 1:¶\n",
    "#[15 pts] Hacer Web Scraping de 10 animales en Wikipedia (en búcle)\n",
    "#[10 pts] Obtener el encabezado de cada animal\n",
    "#[15 pts] Obtener todos los textos que están en las etiquetas de negrilla."
   ]
  },
  {
   "cell_type": "code",
   "execution_count": 1,
   "metadata": {},
   "outputs": [
    {
     "name": "stdout",
     "output_type": "stream",
     "text": [
      "Requirement already satisfied: beautifulsoup4 in c:\\users\\usuario\\anaconda3\\lib\\site-packages (4.9.1)\n",
      "Requirement already satisfied: soupsieve>1.2 in c:\\users\\usuario\\anaconda3\\lib\\site-packages (from beautifulsoup4) (2.0.1)\n"
     ]
    }
   ],
   "source": [
    "! pip install beautifulsoup4"
   ]
  },
  {
   "cell_type": "code",
   "execution_count": 17,
   "metadata": {},
   "outputs": [],
   "source": [
    "import bs4 as bs"
   ]
  },
  {
   "cell_type": "code",
   "execution_count": 18,
   "metadata": {},
   "outputs": [],
   "source": [
    "import bs4 as bs \n",
    "import urllib.request"
   ]
  },
  {
   "cell_type": "code",
   "execution_count": 19,
   "metadata": {},
   "outputs": [],
   "source": [
    "#[15 pts] Hacer Web Scraping de 10 animales en Wikipedia (en búcle)\n",
    "\n",
    "\n",
    "link = [\"https://es.wikipedia.org/wiki/Panthera_tigris\",\n",
    "        \"https://es.wikipedia.org/wiki/Ornithorhynchus_anatinus\",\n",
    "        \"https://es.wikipedia.org/wiki/Giraffa_camelopardalis\",\n",
    "        \"https://es.wikipedia.org/wiki/Sus_scrofa_domestica\",\n",
    "        \"https://es.wikipedia.org/wiki/Equus_ferus_caballus\",\n",
    "        \"https://es.wikipedia.org/wiki/Panthera_leo\",\n",
    "        \"https://es.wikipedia.org/wiki/Selachimorpha\",\n",
    "        \"https://es.wikipedia.org/wiki/Cebra\",\n",
    "        \"https://es.wikipedia.org/wiki/Canis_familiaris\",\n",
    "        \"https://es.wikipedia.org/wiki/Felis_silvestris_catus\"]"
   ]
  },
  {
   "cell_type": "code",
   "execution_count": 20,
   "metadata": {},
   "outputs": [],
   "source": [
    "import urllib.request\n"
   ]
  },
  {
   "cell_type": "code",
   "execution_count": 21,
   "metadata": {},
   "outputs": [
    {
     "name": "stdout",
     "output_type": "stream",
     "text": [
      "Panthera tigris\n",
      "['P. tigris', 'tigre', 'Panthera tigris', 'tigre de Bengala', 'tigre real', 'tigre indio', 'tigre de Indochina', 'tigre de Corbett', 'tigre malayo', 'tigre de Sumatra', 'tigre de Amur', 'tigre siberiano', 'de Manchuria', 'del norte de China', 'tigre del sur de China', 'tigre de Amoy', 'de Xiamen', 'tigre de Bali', 'tigre de Java', 'tigre del Caspio', 'tigre maltés', '152', 'a', 'b', 'a', 'b', 'a', 'b', 'Panthera tigris', 'Panthera tigris', 'Proyectos Wikimedia', 'Identificadores', 'Diccionarios y enciclopedias', 'Bases de datos taxonómicas', 'Identificadores médicos']\n",
      "Ornithorhynchus anatinus\n",
      "['O. anatinus', 'ornitorrinco', 'Ornithorhynchus anatinus', 'Dimensiones promedio', 'a', 'b', 'c', 'd', 'e', 'a', 'b', 'c', 'd', 'e', 'f', 'g', '49', 'a', 'b', 'c', 'd', 'e', 'f', 'g', 'h', 'i', 'j', 'k', 'l', 'm', 'n', 'ñ', 'o', 'p', 'a', 'b', 'a', 'b', '21', '36', '27', 'a', 'b', 'c', '47', '204', 'a', 'b', 'c', 'd', 'e', 'a', 'b', '85', 'a', 'b', 'c', '353', '353', '400', 'a', 'b', 'a', 'b', 'c', 'd', 'e', 'a', 'b', 'c', 'd', 'a', 'b', 'c', '353', '43', 'a', 'b', 'c', '200', 'a', 'b', '30', 'a', 'b', '31', '353', '353', 'a', 'b', 'a', 'b', 'c', '353', 'a', 'b', '416', '5', '106', 'a', 'b', '453', '12', 'ornitorrinco', 'Proyectos Wikimedia', 'Identificadores', 'Diccionarios y enciclopedias', 'Bases de datos taxonómicas', 'Identificadores médicos']\n",
      "Giraffa camelopardalis\n",
      "['G. camelopardalis', 'jirafa', 'Giraffa camelopardalis', 'Giraffa camelopardalis', 'Giraffa reticulata', 'Giraffa tippelskirchi', 'Giraffa giraffa', 'a', 'b', 'c', 'd', 'a', 'b', 'c', 'd', 'a', 'b', 'c', 'd', 'e', 'a', 'b', 'a', 'b', 'c', 'd', 'e', 'f', 'g', 'h', 'i', 'j', 'k', 'l', 'm', 'n', 'ñ', 'o', 'a', 'b', 'c', 'd', 'e', 'f', 'g', 'h', '58', 'a', 'b', 'c', 'd', 'e', 'f', 'g', 'h', '148', 'a', 'b', 'c', 'd', '155', 'a', 'b', 'c', 'd', 'e', 'f', 'g', 'h', 'i', 'j', 'k', 'l', 'm', 'n', 'ñ', 'o', 'p', 'q', 'r', '5', 'a', 'b', 'c', 'd', 'e', 'f', 'g', 'h', 'i', 'j', 'a', 'b', 'c', '5', 'a', 'b', 'c', 'd', 'e', 'f', 'g', 'a', 'b', 'c', 'd', 'e', 'f', 'g', 'h', 'i', 'j', 'k', 'l', 'a', 'b', 'c', 'd', 'e', 'f', 'g', 'h', 'i', 'j', 'k', 'l', 'a', 'b', 'c', 'd', 'e', '330', 'a', 'b', 'c', 'd', 'e', 'f', 'g', 'a', 'b', 'a', 'b', '47', 'a', 'b', 'c', 'd', 'e', 'f', 'g', 'h', 'i', 'j', 'k', 'l', 'm', 'n', 'ñ', 'o', 'p', 'q', 'r', 's', 't', 'u', 'v', 'a', 'b', 'a', 'b', 'c', 'd', 'e', 'f', 'g', 'h', 'i', 'a', 'b', 'c', 'd', 'e', 'f', 'g', 'h', 'i', 'j', 'k', 'l', 'm', 'n', 'ñ', 'o', 'p', 'q', 'r', 's', 't', 'u', 'v', 'w', 'x', 'y', 'z', 'aa', 'ab', 'ac', 'a', 'b', '59', '30', 'a', 'b', 'c', 'd', '282', '229', 'a', 'b', '5', 'a', 'b', 'c', '265', 'a', 'b', '304', 'a', 'b', '247', 'a', 'b', '28', '169', '129', 'a', 'b', '87', '65', '278', 'a', 'b', 'c', 'a', 'b', '57', 'a', 'b', '158', '39', '38', '120', '38', 'a', 'b', 'a', 'b', '251', 'a', 'b', 'c', 'd', 'e', 'f', 'g', '19', 'a', 'b', 'c', 'd', 'e', '17', 'a', 'b', 'c', 'd', '43', '151', '153', '77', '17', '18', '39', 'jirafa', 'jirafas', 'Giraffa camelopardalis', 'Proyectos Wikimedia', 'Identificadores', 'Diccionarios y enciclopedias', 'Bases de datos taxonómicas']\n",
      "Sus scrofa domestica\n",
      "['S. s. domestica', 'cerdo', 'Sus scrofa domestica', 'chancho', 'puerco', 'porcino', 'marrano', 'gorrino', 'cochino', '106', 'a', 'b', '154', '104', 'Proyectos Wikimedia', 'Identificadores', 'Diccionarios y enciclopedias', 'Bases de datos taxonómicas', 'Identificadores médicos']\n",
      "Equus ferus caballus\n",
      "['E. f. caballus', 'caballo', 'Equus ferus caballus', 'yegua', 'potros', 'potrillos', 'potras', 'potrancas', 'Alazán', 'Albino', 'Bayo', 'Blanco', 'Castaño, mulato', 'zaino', 'Isabelo', 'Negro', 'Palomino', 'Pío', 'Ruano', 'Tordo', 'Barra', 'cordón', 'Cabeza de moro', 'Carablanca', 'Careto', 'Corte', 'Lucero', 'albo', 'Calzado alto', 'Calzado medio', 'Calzado bajo', 'Calcetín', 'armiñado', 'Unialbo', 'Bialbo', 'Tresalbo', 'Cuatrialbo', 'Caballos de sangre fría', 'Caballos de sangre tibia', 'Caballos de sangre caliente', 'tranco', 'paso', 'trote', 'Trote sentado', 'Trote levantado', 'galope', 'a', 'b', '60', 'a', 'b', 'c', '3', '291', '97', 'a', 'b', 'a', 'b', '43', 'a', 'b', 'c', 'Equus ferus caballus', 'Equus ferus caballus', 'caballo', 'rocín', 'Proyectos Wikimedia', 'Identificadores', 'Diccionarios y enciclopedias', 'Identificadores médicos']\n",
      "Panthera leo\n",
      "['P. leo', 'león', 'Panthera leo', 'P. l. azandica', 'león del Congo', 'P. l. bleyenberghi', 'león de Katanga', 'P. l. krugeri', 'león del Transvaal', 'P. l. nubica', 'león Massai', 'P. l. persica', 'león asiático', 'león surasiático, persa o indio', 'P. l. senegalensis', 'león de África occidental', 'P. l. leo', 'león del Atlas', 'P. l. melanochaitus', 'león del Cabo', 'P. l. atrox', 'león americano', 'P. l. fossilis', 'león primitivo de las cavernas', 'P. l. spelaea', 'león de las cavernas', 'P. l. vereshchagini', 'león de Beringia', 'P. l. sinhaleyus', 'león de Sri Lanka', 'P. l. europaea', 'león europeo', 'P. l. youngi', 'P. l. maculatus', 'marozi', 'a', 'b', 'c', 'd', 'e', 'a', 'b', '1', 'a', 'b', 'c', 'd', 'a', 'b', 'a', 'b', '297', 'a', 'b', 'c', 'd', '7', '49', 'a', 'b', 'c', 'd', 'e', 'f', 'a', 'b', 'c', '269', '269', '271', 'a', 'b', '267', '12', 'a', 'b', '29', 'a', 'b', 'a', 'b', '1', 'a', 'b', 'a', 'b', '121', '20', '1', '379', '35', '263', 'a', 'b', 'c', 'd', 'e', 'f', \"et al.'\", '30', '14', '273', '6', 'a', 'b', 'a', 'b', '18', '12', 'a', 'b', '6', 'a', 'b', 'a', 'b', '36', '8', '11', '49', '84', '90', 'a', 'b', '436', '52', 'a', 'b', 'a', 'b', '3', 'a', 'b', 'a', 'b', 'c', 'Felinos', 'Panthera leo', 'Panthera leo', 'león', 'Panthera leo', 'Proyectos Wikimedia', 'Identificadores', 'Diccionarios y enciclopedias', 'Bases de datos taxonómicas', 'Identificadores médicos']\n",
      "Selachimorpha\n",
      "['Selachimorpha', 'selaquimorfos', 'selacimorfos', 'Selachimorpha', 'tiburones', 'escualos', 'jaquetones', 'a', 'b', 'c', 'd', 'e', 'f', 'g', 'h', 'i', 'j', 'k', 'l', 'm', 'n', 'ñ', 'o', 'p', 'q', 'r', '5', 'a', 'b', 'a', 'b', 'a', 'b', 'Selachimorpha', 'Selachimorpha', 'tiburón', 'Proyectos Wikimedia', 'Identificadores', 'Bases de datos taxonómicas', 'Identificadores médicos']\n",
      "Cebra\n",
      "['Dolichohippus', 'Hippotigris', 'cebra', 'Subgénero Dolichohippus', 'Subgénero Hippotigris', 'a', 'b', 'a', 'b', 'c', '499', '3', '106', 'a', 'b', 'c', 'd', 'e', 'f', 'g', 'h', '215', '93', 'Cebra', 'cebra', 'Proyectos Wikimedia', 'Identificadores', 'Diccionarios y enciclopedias', 'Bases de datos taxonómicas']\n",
      "Canis familiaris\n",
      "['C. familiaris', 'perro', 'Canis familiaris', 'Canis lupus familiaris', 'perro doméstico', 'can', 'chucho', 'tuso', 'choco', 'Chocolate', 'Golosinas', 'Huesos', 'Alimentos o desperdicios caseros', 'Carne de cerdo o jabalí y pecarí', 'Perros', '438', '25', '58', '145', 'a', 'b', 'c', '23', 'a', 'b', 'a', 'b', 'a', 'b', 'c', 'd', '70', 'a', 'b', '17', 'a', 'b', '48', 'a', 'b', '48', 'a', 'b', 'c', 'd', 'a', 'b', '69', '136', '2', 'a', 'b', 'c', 'd', '5', '48', 'a', 'b', 'c', '10', 'a', 'b', 'c', '177', 'a', 'b', 'c', 'd', '79', '74', '325', 'a', 'b', 'c', '113', '44', 'a', 'b', '46', 'a', 'b', 'c', '18', '139', '231', '438', '36', '352', '35', 'a', 'b', 'c', 'd', '4', 'a', 'b', '10', 'a', 'b', '28', '81', '12', 'a', 'b', '120', 'Proyectos Wikimedia', 'Identificadores', 'Bases de datos taxonómicas', 'Identificadores químicos']\n",
      "Felis silvestris catus\n",
      "['F. s. catus', 'gato doméstico', 'Felis silvestris catus', 'gato', 'minino', 'michino', 'michi', 'micho', 'mizo', 'miz', 'morroño', 'morrongo', '«Capturar-Esterilizar-Soltar»,', ' \"Oda al gato\" ', 'Pablo Neruda', 'The International Cat Association', 'Fédération Internationale Féline', 'World Cat Federation', 'Rare and Exotic Cat Registry', 'a', 'b', 'c', 'd', 'e', '111', 'a', 'b', '209', '7', 'a', 'b', '59', '13', '199', '1', '1', 'a', 'b', '44', '28', '124', 'a', 'b', 'Felis silvestris catus', 'Felis silvestris catus', 'Felis silvestris catus', 'gato', 'Felinos', 'Proyectos Wikimedia', 'Identificadores', 'Diccionarios y enciclopedias', 'Identificadores médicos']\n"
     ]
    }
   ],
   "source": [
    "#[10 pts] Obtener el encabezado de cada animal\n",
    "#[15 pts] Obtener todos los textos que están en las etiquetas de negrilla.\n",
    "\n",
    "for x in range(len(link)):\n",
    "    request = urllib.request.Request(link[x], headers={'User-Agent': 'Mozilla/5.0'})\n",
    "    webpage = urllib.request.urlopen(request)\n",
    "    source = webpage.read()\n",
    "    webpage.close()\n",
    "    animales = bs.BeautifulSoup(source, 'html.parser')\n",
    "    animalesHeader=animales.find(\"h1\").text\n",
    "    negrilla = animales.find(id=\"bodyContent\").find_all(\"b\")\n",
    "    for y in range(len(negrilla)):\n",
    "        negrilla[y]=negrilla[y].text\n",
    "    print(animalesHeader)\n",
    "    print(negrilla)\n",
    "\n",
    "    "
   ]
  },
  {
   "cell_type": "code",
   "execution_count": 22,
   "metadata": {},
   "outputs": [
    {
     "name": "stdout",
     "output_type": "stream",
     "text": [
      "Panthera tigris\n",
      "['tigre', 'Panthera tigris']\n",
      "Ornithorhynchus anatinus\n",
      "[]\n",
      "Giraffa camelopardalis\n",
      "[]\n",
      "Sus scrofa domestica\n",
      "['cerdo', 'Sus scrofa domestica', 'chancho', 'puerco', 'porcino', 'marrano', 'gorrino', 'cochino']\n",
      "Equus ferus caballus\n",
      "['caballo', 'Equus ferus caballus']\n",
      "Panthera leo\n",
      "['león', 'Panthera leo']\n",
      "Selachimorpha\n",
      "['selaquimorfos', 'selacimorfos', 'Selachimorpha', 'tiburones', 'escualos', 'jaquetones']\n",
      "Cebra\n",
      "['cebra']\n",
      "Canis familiaris\n",
      "['perro', 'Canis familiaris', 'Canis lupus familiaris', 'perro doméstico', 'can', 'chucho', 'tuso', 'choco']\n",
      "Felis silvestris catus\n",
      "['gato doméstico', 'Felis silvestris catus', 'gato', 'minino', 'michino', 'michi', 'micho', 'mizo', 'miz', 'morroño', 'morrongo']\n"
     ]
    }
   ],
   "source": [
    "\n",
    "for x in range(len(link)):\n",
    "    request = urllib.request.Request(link[x], headers={'User-Agent': 'Mozilla/5.0'})\n",
    "    webpage = urllib.request.urlopen(request)\n",
    "    source = webpage.read()\n",
    "    webpage.close()\n",
    "    animales = bs.BeautifulSoup(source, 'html.parser')\n",
    "    animalesHeader=animales.find(\"h1\").text\n",
    "    negrilla = animales.find(\"p\").find_all(\"b\")\n",
    "    for y in range(len(negrilla)):\n",
    "        negrilla[y]=negrilla[y].text\n",
    "    print(animalesHeader)\n",
    "    print(negrilla)"
   ]
  },
  {
   "cell_type": "code",
   "execution_count": 23,
   "metadata": {},
   "outputs": [],
   "source": [
    "import re"
   ]
  },
  {
   "cell_type": "code",
   "execution_count": 124,
   "metadata": {},
   "outputs": [
    {
     "name": "stdout",
     "output_type": "stream",
     "text": [
      "Panthera tigris\n",
      "['P. tigris', 'tigre', 'Panthera tigris', 'tigre de Bengala', 'tigre real', 'tigre indio', 'tigre de Indochina', 'tigre de Corbett', 'tigre malayo', 'tigre de Sumatra', 'tigre de Amur', 'tigre siberiano', 'de Manchuria', 'del norte de China', 'tigre del sur de China', 'tigre de Amoy', 'de Xiamen', 'tigre de Bali', 'tigre de Java', 'tigre del Caspio', 'tigre malt*s', '152', 'a', 'b', 'a', 'b', 'a', 'b', 'Panthera tigris', 'Panthera tigris', 'Proyectos Wikimedia', 'Identificadores', 'Diccionarios y enciclopedias', 'Bases de datos taxon*micas', 'Identificadores m*dicos']\n",
      "Ornithorhynchus anatinus\n",
      "['O. anatinus', 'ornitorrinco', 'Ornithorhynchus anatinus', 'Dimensiones promedio', 'a', 'b', 'c', 'd', 'e', 'a', 'b', 'c', 'd', 'e', 'f', 'g', '49', 'a', 'b', 'c', 'd', 'e', 'f', 'g', 'h', 'i', 'j', 'k', 'l', 'm', 'n', 'ñ', 'o', 'p', 'a', 'b', 'a', 'b', '21', '36', '27', 'a', 'b', 'c', '47', '204', 'a', 'b', 'c', 'd', 'e', 'a', 'b', '85', 'a', 'b', 'c', '353', '353', '400', 'a', 'b', 'a', 'b', 'c', 'd', 'e', 'a', 'b', 'c', 'd', 'a', 'b', 'c', '353', '43', 'a', 'b', 'c', '200', 'a', 'b', '30', 'a', 'b', '31', '353', '353', 'a', 'b', 'a', 'b', 'c', '353', 'a', 'b', '416', '5', '106', 'a', 'b', '453', '12', 'ornitorrinco', 'Proyectos Wikimedia', 'Identificadores', 'Diccionarios y enciclopedias', 'Bases de datos taxon*micas', 'Identificadores m*dicos']\n",
      "Giraffa camelopardalis\n",
      "['G. camelopardalis', 'jirafa', 'Giraffa camelopardalis', 'Giraffa camelopardalis', 'Giraffa reticulata', 'Giraffa tippelskirchi', 'Giraffa giraffa', 'a', 'b', 'c', 'd', 'a', 'b', 'c', 'd', 'a', 'b', 'c', 'd', 'e', 'a', 'b', 'a', 'b', 'c', 'd', 'e', 'f', 'g', 'h', 'i', 'j', 'k', 'l', 'm', 'n', 'ñ', 'o', 'a', 'b', 'c', 'd', 'e', 'f', 'g', 'h', '58', 'a', 'b', 'c', 'd', 'e', 'f', 'g', 'h', '148', 'a', 'b', 'c', 'd', '155', 'a', 'b', 'c', 'd', 'e', 'f', 'g', 'h', 'i', 'j', 'k', 'l', 'm', 'n', 'ñ', 'o', 'p', 'q', 'r', '5', 'a', 'b', 'c', 'd', 'e', 'f', 'g', 'h', 'i', 'j', 'a', 'b', 'c', '5', 'a', 'b', 'c', 'd', 'e', 'f', 'g', 'a', 'b', 'c', 'd', 'e', 'f', 'g', 'h', 'i', 'j', 'k', 'l', 'a', 'b', 'c', 'd', 'e', 'f', 'g', 'h', 'i', 'j', 'k', 'l', 'a', 'b', 'c', 'd', 'e', '330', 'a', 'b', 'c', 'd', 'e', 'f', 'g', 'a', 'b', 'a', 'b', '47', 'a', 'b', 'c', 'd', 'e', 'f', 'g', 'h', 'i', 'j', 'k', 'l', 'm', 'n', 'ñ', 'o', 'p', 'q', 'r', 's', 't', 'u', 'v', 'a', 'b', 'a', 'b', 'c', 'd', 'e', 'f', 'g', 'h', 'i', 'a', 'b', 'c', 'd', 'e', 'f', 'g', 'h', 'i', 'j', 'k', 'l', 'm', 'n', 'ñ', 'o', 'p', 'q', 'r', 's', 't', 'u', 'v', 'w', 'x', 'y', 'z', 'aa', 'ab', 'ac', 'a', 'b', '59', '30', 'a', 'b', 'c', 'd', '282', '229', 'a', 'b', '5', 'a', 'b', 'c', '265', 'a', 'b', '304', 'a', 'b', '247', 'a', 'b', '28', '169', '129', 'a', 'b', '87', '65', '278', 'a', 'b', 'c', 'a', 'b', '57', 'a', 'b', '158', '39', '38', '120', '38', 'a', 'b', 'a', 'b', '251', 'a', 'b', 'c', 'd', 'e', 'f', 'g', '19', 'a', 'b', 'c', 'd', 'e', '17', 'a', 'b', 'c', 'd', '43', '151', '153', '77', '17', '18', '39', 'jirafa', 'jirafas', 'Giraffa camelopardalis', 'Proyectos Wikimedia', 'Identificadores', 'Diccionarios y enciclopedias', 'Bases de datos taxon*micas']\n",
      "Sus scrofa domestica\n",
      "['S. s. domestica', 'cerdo', 'Sus scrofa domestica', 'chancho', 'puerco', 'porcino', 'marrano', 'gorrino', 'cochino', '106', 'a', 'b', '154', '104', 'Proyectos Wikimedia', 'Identificadores', 'Diccionarios y enciclopedias', 'Bases de datos taxon*micas', 'Identificadores m*dicos']\n",
      "Equus ferus caballus\n",
      "['E. f. caballus', 'caballo', 'Equus ferus caballus', 'yegua', 'potros', 'potrillos', 'potras', 'potrancas', 'Alaz*n', 'Albino', 'Bayo', 'Blanco', 'Castaño, mulato', 'zaino', 'Isabelo', 'Negro', 'Palomino', 'P*o', 'Ruano', 'Tordo', 'Barra', 'cord*n', 'Cabeza de moro', 'Carablanca', 'Careto', 'Corte', 'Lucero', 'albo', 'Calzado alto', 'Calzado medio', 'Calzado bajo', 'Calcet*n', 'armiñado', 'Unialbo', 'Bialbo', 'Tresalbo', 'Cuatrialbo', 'Caballos de sangre fr*a', 'Caballos de sangre tibia', 'Caballos de sangre caliente', 'tranco', 'paso', 'trote', 'Trote sentado', 'Trote levantado', 'galope', 'a', 'b', '60', 'a', 'b', 'c', '3', '291', '97', 'a', 'b', 'a', 'b', '43', 'a', 'b', 'c', 'Equus ferus caballus', 'Equus ferus caballus', 'caballo', 'roc*n', 'Proyectos Wikimedia', 'Identificadores', 'Diccionarios y enciclopedias', 'Identificadores m*dicos']\n",
      "Panthera leo\n",
      "['P. leo', 'le*n', 'Panthera leo', 'P. l. azandica', 'le*n del Congo', 'P. l. bleyenberghi', 'le*n de Katanga', 'P. l. krugeri', 'le*n del Transvaal', 'P. l. nubica', 'le*n Massai', 'P. l. persica', 'le*n asi*tico', 'le*n surasi*tico, persa o indio', 'P. l. senegalensis', 'le*n de *frica occidental', 'P. l. leo', 'le*n del Atlas', 'P. l. melanochaitus', 'le*n del Cabo', 'P. l. atrox', 'le*n americano', 'P. l. fossilis', 'le*n primitivo de las cavernas', 'P. l. spelaea', 'le*n de las cavernas', 'P. l. vereshchagini', 'le*n de Beringia', 'P. l. sinhaleyus', 'le*n de Sri Lanka', 'P. l. europaea', 'le*n europeo', 'P. l. youngi', 'P. l. maculatus', 'marozi', 'a', 'b', 'c', 'd', 'e', 'a', 'b', '1', 'a', 'b', 'c', 'd', 'a', 'b', 'a', 'b', '297', 'a', 'b', 'c', 'd', '7', '49', 'a', 'b', 'c', 'd', 'e', 'f', 'a', 'b', 'c', '269', '269', '271', 'a', 'b', '267', '12', 'a', 'b', '29', 'a', 'b', 'a', 'b', '1', 'a', 'b', 'a', 'b', '121', '20', '1', '379', '35', '263', 'a', 'b', 'c', 'd', 'e', 'f', \"et al.'\", '30', '14', '273', '6', 'a', 'b', 'a', 'b', '18', '12', 'a', 'b', '6', 'a', 'b', 'a', 'b', '36', '8', '11', '49', '84', '90', 'a', 'b', '436', '52', 'a', 'b', 'a', 'b', '3', 'a', 'b', 'a', 'b', 'c', 'Felinos', 'Panthera leo', 'Panthera leo', 'le*n', 'Panthera leo', 'Proyectos Wikimedia', 'Identificadores', 'Diccionarios y enciclopedias', 'Bases de datos taxon*micas', 'Identificadores m*dicos']\n",
      "Selachimorpha\n",
      "['Selachimorpha', 'selaquimorfos', 'selacimorfos', 'Selachimorpha', 'tiburones', 'escualos', 'jaquetones', 'a', 'b', 'c', 'd', 'e', 'f', 'g', 'h', 'i', 'j', 'k', 'l', 'm', 'n', 'ñ', 'o', 'p', 'q', 'r', '5', 'a', 'b', 'a', 'b', 'a', 'b', 'Selachimorpha', 'Selachimorpha', 'tibur*n', 'Proyectos Wikimedia', 'Identificadores', 'Bases de datos taxon*micas', 'Identificadores m*dicos']\n",
      "Cebra\n",
      "['Dolichohippus', 'Hippotigris', 'cebra', 'Subg*nero Dolichohippus', 'Subg*nero Hippotigris', 'a', 'b', 'a', 'b', 'c', '499', '3', '106', 'a', 'b', 'c', 'd', 'e', 'f', 'g', 'h', '215', '93', 'Cebra', 'cebra', 'Proyectos Wikimedia', 'Identificadores', 'Diccionarios y enciclopedias', 'Bases de datos taxon*micas']\n",
      "Canis familiaris\n",
      "['C. familiaris', 'perro', 'Canis familiaris', 'Canis lupus familiaris', 'perro dom*stico', 'can', 'chucho', 'tuso', 'choco', 'Chocolate', 'Golosinas', 'Huesos', 'Alimentos o desperdicios caseros', 'Carne de cerdo o jabal* y pecar*', 'Perros', '438', '25', '58', '145', 'a', 'b', 'c', '23', 'a', 'b', 'a', 'b', 'a', 'b', 'c', 'd', '70', 'a', 'b', '17', 'a', 'b', '48', 'a', 'b', '48', 'a', 'b', 'c', 'd', 'a', 'b', '69', '136', '2', 'a', 'b', 'c', 'd', '5', '48', 'a', 'b', 'c', '10', 'a', 'b', 'c', '177', 'a', 'b', 'c', 'd', '79', '74', '325', 'a', 'b', 'c', '113', '44', 'a', 'b', '46', 'a', 'b', 'c', '18', '139', '231', '438', '36', '352', '35', 'a', 'b', 'c', 'd', '4', 'a', 'b', '10', 'a', 'b', '28', '81', '12', 'a', 'b', '120', 'Proyectos Wikimedia', 'Identificadores', 'Bases de datos taxon*micas', 'Identificadores qu*micos']\n",
      "Felis silvestris catus\n",
      "['F. s. catus', 'gato dom*stico', 'Felis silvestris catus', 'gato', 'minino', 'michino', 'michi', 'micho', 'mizo', 'miz', 'morroño', 'morrongo', '«Capturar-Esterilizar-Soltar»,', ' \"Oda al gato\" ', 'Pablo Neruda', 'The International Cat Association', 'F*d*ration Internationale F*line', 'World Cat Federation', 'Rare and Exotic Cat Registry', 'a', 'b', 'c', 'd', 'e', '111', 'a', 'b', '209', '7', 'a', 'b', '59', '13', '199', '1', '1', 'a', 'b', '44', '28', '124', 'a', 'b', 'Felis silvestris catus', 'Felis silvestris catus', 'Felis silvestris catus', 'gato', 'Felinos', 'Proyectos Wikimedia', 'Identificadores', 'Diccionarios y enciclopedias', 'Identificadores m*dicos']\n"
     ]
    }
   ],
   "source": [
    "\n",
    "#Punto 2:\n",
    "#[10 pts] Usando regex, reemplazar todas las tíldes del punto anterior por un asterisco (¡Ojo, los espacios se quedan!)\n",
    "\n",
    "for x in range(len(link)):\n",
    "    request = urllib.request.Request(link[x], headers={'User-Agent': 'Mozilla/5.0'})\n",
    "    webpage = urllib.request.urlopen(request)\n",
    "    source = webpage.read()\n",
    "    webpage.close()\n",
    "    animales = bs.BeautifulSoup(source, 'html.parser')\n",
    "    animalesHeader=animales.find(\"h1\").text\n",
    "    negrilla = animales.find(id=\"bodyContent\").find_all(\"b\")\n",
    "    for y in range(len(negrilla)):\n",
    "        negrilla[y]=re.sub( r\"(á|é|í|ó|ú|Á|É|Í|Ó|Ú)\", r\"*\", negrilla[y].text)\n",
    "    print(animalesHeader)\n",
    "    print(negrilla)\n",
    "    "
   ]
  }
 ],
 "metadata": {
  "kernelspec": {
   "display_name": "Python 3",
   "language": "python",
   "name": "python3"
  },
  "language_info": {
   "codemirror_mode": {
    "name": "ipython",
    "version": 3
   },
   "file_extension": ".py",
   "mimetype": "text/x-python",
   "name": "python",
   "nbconvert_exporter": "python",
   "pygments_lexer": "ipython3",
   "version": "3.8.3"
  }
 },
 "nbformat": 4,
 "nbformat_minor": 4
}
