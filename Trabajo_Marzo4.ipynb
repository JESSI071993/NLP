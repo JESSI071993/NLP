{
 "cells": [
  {
   "cell_type": "code",
   "execution_count": 7,
   "metadata": {},
   "outputs": [],
   "source": [
    "import os \n",
    "from zipfile import ZipFile"
   ]
  },
  {
   "cell_type": "code",
   "execution_count": 23,
   "metadata": {},
   "outputs": [],
   "source": [
    "direccion = \"C:/Users/usuario/Desktop/NLP/22_Febrero/python_books.zip\""
   ]
  },
  {
   "cell_type": "code",
   "execution_count": 25,
   "metadata": {},
   "outputs": [],
   "source": [
    "# Descomprimir archivo ZIP # \n",
    "\n",
    "with ZipFile (direccion)as archivo:\n",
    "    archivo.extractall(\"C:/Users/usuario/Desktop/NLP/08_Marzo/python_books.zip\")"
   ]
  },
  {
   "cell_type": "code",
   "execution_count": 37,
   "metadata": {},
   "outputs": [
    {
     "name": "stdout",
     "output_type": "stream",
     "text": [
      "('C:/Users/usuario/Desktop/NLP/08_Marzo/python_books.zip', ['python_books'], [])\n",
      "('C:/Users/usuario/Desktop/NLP/08_Marzo/python_books.zip\\\\python_books', [], ['Python  Data Science Cookbook.pdf', 'Python - AWS.pdf', 'Python - Finance.pdf'])\n"
     ]
    }
   ],
   "source": [
    "# ¿como se pueden mirar los nombres de los archivos? \n",
    "\n",
    "for archivo in os.walk(\"C:/Users/usuario/Desktop/NLP/08_Marzo/python_books.zip\"):\n",
    "    print(archivo)"
   ]
  },
  {
   "cell_type": "code",
   "execution_count": 39,
   "metadata": {},
   "outputs": [
    {
     "name": "stdout",
     "output_type": "stream",
     "text": [
      "Python  Data Science Cookbook.pdf\n",
      "Python - AWS.pdf\n",
      "Python - Finance.pdf\n"
     ]
    }
   ],
   "source": [
    "# ¿como mirarlos directamente sin mostrar la ruta?\n",
    "\n",
    "for raiz, dirs, archivos in os.walk(\"C:/Users/usuario/Desktop/NLP/08_Marzo/python_books.zip\"):\n",
    "    #print(raiz, dirs, archivos)#\n",
    "    for z in archivos:\n",
    "        print (z)"
   ]
  },
  {
   "cell_type": "code",
   "execution_count": 40,
   "metadata": {},
   "outputs": [
    {
     "name": "stdout",
     "output_type": "stream",
     "text": [
      "Requirement already satisfied: PyMuPDF in c:\\users\\usuario\\anaconda3\\lib\\site-packages (1.18.8)\n"
     ]
    }
   ],
   "source": [
    "! pip install PyMuPDF"
   ]
  },
  {
   "cell_type": "code",
   "execution_count": 41,
   "metadata": {},
   "outputs": [
    {
     "name": "stdout",
     "output_type": "stream",
     "text": [
      "Collecting PyPDF2\n",
      "  Downloading PyPDF2-1.26.0.tar.gz (77 kB)\n",
      "Building wheels for collected packages: PyPDF2\n",
      "  Building wheel for PyPDF2 (setup.py): started\n",
      "  Building wheel for PyPDF2 (setup.py): finished with status 'done'\n",
      "  Created wheel for PyPDF2: filename=PyPDF2-1.26.0-py3-none-any.whl size=61087 sha256=f9f5ae4bbe14dd9b00e07f3a7e232fba0a20fc81471f9cc3377bdc7e1b3b6e47\n",
      "  Stored in directory: c:\\users\\usuario\\appdata\\local\\pip\\cache\\wheels\\b1\\1a\\8f\\a4c34be976825a2f7948d0fa40907598d69834f8ab5889de11\n",
      "Successfully built PyPDF2\n",
      "Installing collected packages: PyPDF2\n",
      "Successfully installed PyPDF2-1.26.0\n"
     ]
    }
   ],
   "source": [
    "! pip install PyPDF2"
   ]
  },
  {
   "cell_type": "code",
   "execution_count": 42,
   "metadata": {},
   "outputs": [],
   "source": [
    "# lectura de archivos #\n",
    "import fitz \n"
   ]
  },
  {
   "cell_type": "code",
   "execution_count": 44,
   "metadata": {},
   "outputs": [],
   "source": [
    "documento = fitz.open(\"C:/Users/usuario/Desktop/NLP/08_Marzo/python_books.zip/python_books/Python - AWS.pdf\")"
   ]
  },
  {
   "cell_type": "code",
   "execution_count": 67,
   "metadata": {},
   "outputs": [
    {
     "name": "stdout",
     "output_type": "stream",
     "text": [
      "Número de páginas:  1\n",
      "Metados:  {'format': 'PDF 1.3', 'title': '', 'author': '', 'subject': '', 'keywords': '', 'creator': 'Adobe InDesign CS6 (Windows)', 'producer': 'macOS Version 11.2.1 (Build 20D74) Quartz PDFContext', 'creationDate': \"D:20210225223227Z00'00'\", 'modDate': \"D:20210225223227Z00'00'\", 'trapped': '', 'encryption': None}\n"
     ]
    }
   ],
   "source": [
    "print(\"Número de páginas: \", documento.pageCount)\n",
    "print(\"Metados: \", documento.metadata)\n"
   ]
  },
  {
   "cell_type": "code",
   "execution_count": 66,
   "metadata": {},
   "outputs": [
    {
     "name": "stdout",
     "output_type": "stream",
     "text": [
      "[ vii ]\n",
      "Preface\n",
      "With an increasing interest in leveraging cloud infrastructure around the world, the \n",
      "AWS cloud from Amazon offers a cutting-edge platform for architecting, building, \n",
      "and deploying web-scale cloud applications through a user-friendly interface. The \n",
      "variety of features available within AWS can reduce overall infrastructure costs and \n",
      "accelerate the development process for both large enterprises and start-ups alike.\n",
      "Learning AWS covers basic, intermediate, and advanced features and concepts  \n",
      "as they relate to designing, developing, and deploying scalable, highly available,  \n",
      "and secure applications on the AWS platform. By sequentially working through  \n",
      "the steps in each chapter, you will quickly master the features of AWS to create an \n",
      "enterprise-grade cloud application. We use a three-tiered services-oriented sample \n",
      "application for extensive hands-on exercises.\n",
      "This book will not only teach you about the AWS components, but you will gain \n",
      "valuable information about key concepts such as multi-tenancy, auto scaling, \n",
      "planning, implementing application development environments, addressing \n",
      "application security concerns, and so on. You will also learn how these concepts \n",
      "relate to cost effective architectural decisions while designing scalable, highly \n",
      "available, and secure AWS cloud applications.\n",
      "A step-by-step approach to cloud application design and implementation is explained \n",
      "in a conversational and easy-to-follow style. Each topic is explained sequentially in \n",
      "the process of creating an AWS cloud application. Detailed explanations of the basic \n",
      "and advanced features of AWS that address the needs of readers with a wide range \n",
      "of real-world experiences are also included. Expert programmers and architects will \n",
      "appreciate the focus on the practice rather than the theory.\n",
      "\n"
     ]
    }
   ],
   "source": [
    "pagina = documento.loadPage(0)\n",
    "texto = pagina.getText(\"text\")\n",
    "print(texto)"
   ]
  },
  {
   "cell_type": "code",
   "execution_count": 50,
   "metadata": {},
   "outputs": [],
   "source": [
    "data = fitz.open(\"C:/Users/usuario/Desktop/NLP/08_Marzo/python_books.zip/python_books/Python  Data Science Cookbook.pdf\")"
   ]
  },
  {
   "cell_type": "code",
   "execution_count": 65,
   "metadata": {},
   "outputs": [
    {
     "name": "stdout",
     "output_type": "stream",
     "text": [
      "Número de páginas:  1\n",
      "Metados:  {'format': 'PDF 1.3', 'title': 'Python Data Science Cookbook', 'author': 'Gopi Subramanian', 'subject': '', 'keywords': '', 'creator': 'calibre 2.35.0 [http://calibre-ebook.com]', 'producer': 'macOS Version 11.2.1 (Build 20D74) Quartz PDFContext', 'creationDate': \"D:20210225223143Z00'00'\", 'modDate': \"D:20210225223143Z00'00'\", 'trapped': '', 'encryption': None}\n"
     ]
    }
   ],
   "source": [
    "print(\"Número de páginas: \", data.pageCount)\n",
    "print(\"Metados: \", data.metadata)\n"
   ]
  },
  {
   "cell_type": "code",
   "execution_count": 64,
   "metadata": {},
   "outputs": [
    {
     "name": "stdout",
     "output_type": "stream",
     "text": [
      "Preface\n",
      "Today,\twe\tlive\tin\ta\tworld\tof\tconnected\tthings\twhere\ttons\tof\tdata\tis\tgenerated\tand\tit\tis\n",
      "humanly\timpossible\tto\tanalyze\tall\tthe\tincoming\tdata\tand\tmake\tdecisions.\tHuman\n",
      "decisions\tare\tincreasingly\treplaced\tby\tdecisions\tmade\tby\tcomputers.\tThanks\tto\tthe\tfield\n",
      "of\tdata\tscience.\tData\tscience\thas\tpenetrated\tdeeply\tin\tour\tconnected\tworld\tand\tthere\tis\ta\n",
      "growing\tdemand\tin\tthe\tmarket\tfor\tpeople\twho\tnot\tonly\tunderstand\tdata\tscience\n",
      "algorithms\tthoroughly,\tbut\tare\talso\tcapable\tof\tprogramming\tthese\talgorithms.\tData\n",
      "science\tis\ta\tfield\tthat\tis\tat\tthe\tintersection\tof\tmany\tfields,\tincluding\tdata\tmining,\tmachine\n",
      "learning,\tand\tstatistics,\tto\tname\ta\tfew.\tThis\tputs\tan\timmense\tburden\ton\tall\tlevels\tof\tdata\n",
      "scientists;\tfrom\tthe\tone\twho\tis\taspiring\tto\tbecome\ta\tdata\tscientist\tand\tthose\twho\tare\n",
      "currently\tpractitioners\tin\tthis\tfield.\tTreating\tthese\talgorithms\tas\ta\tblack\tbox\tand\tusing\n",
      "them\tin\tdecision-making\tsystems\twill\tlead\tto\tcounterproductive\tresults.\tWith\ttons\tof\n",
      "algorithms\tand\tinnumerable\tproblems\tout\tthere,\tit\trequires\ta\tgood\tgrasp\tof\tthe\tunderlying\n",
      "algorithms\tin\torder\tto\tchoose\tthe\tbest\tone\tfor\tany\tgiven\tproblem.\n",
      "Python\tas\ta\tprogramming\tlanguage\thas\tevolved\tover\tthe\tyears\tand\ttoday,\tit\tis\tthe\tnumber\n",
      "one\tchoice\tfor\ta\tdata\tscientist.\tIts\tability\tto\tact\tas\ta\tscripting\tlanguage\tfor\tquick\tprototype\n",
      "building\tand\tits\tsophisticated\tlanguage\tconstructs\tfor\tfull-fledged\tsoftware\tdevelopment\n",
      "combined\twith\tits\tfantastic\tlibrary\tsupport\tfor\tnumeric\tcomputations\thas\tled\tto\tits\tcurrent\n",
      "popularity\tamong\tdata\tscientists\tand\tthe\tgeneral\tscientific\tprogramming\tcommunity.\tNot\n",
      "just\tthat,\tPython\tis\talso\tpopular\tamong\tweb\tdevelopers;\tthanks\tto\tframeworks\tsuch\tas\n",
      "Django\tand\tFlask.\n",
      "This\tbook\thas\tbeen\tcarefully\twritten\tto\tcater\tto\tthe\tneeds\tof\ta\tdiverse\trange\tof\tdata\n",
      "scientists—starting\tfrom\tnovice\tdata\tscientists\tto\texperienced\tones—through\tcarefully\n",
      "crafted\trecipes,\twhich\ttouch\tupon\tthe\tdifferent\taspects\tof\tdata\tscience,\tincluding\tdata\n",
      "exploration,\tdata\tanalysis\tand\tmining,\tmachine\tlearning,\tand\tlarge\tscale\tmachine\tlearning.\n",
      "Each\tchapter\thas\tbeen\tcarefully\tcrafted\twith\trecipes\texploring\tthese\taspects.\tSufficient\n",
      "math\thas\tbeen\tprovided\tfor\tthe\treaders\tto\tunderstand\tthe\tfunctioning\tof\tthe\talgorithms\tin\n",
      "depth.\tWherever\tnecessary,\tenough\treferences\tare\tprovided\tfor\tthe\tcurious\treaders.\tThe\n",
      "recipes\tare\twritten\tin\tsuch\ta\tway\tthat\tthey\tare\teasy\tto\tfollow\tand\tunderstand.\n",
      "This\tbook\tbrings\tthe\tart\tof\tdata\tscience\twith\tpower\tPython\tprogramming\tto\tthe\treaders\n",
      "and\thelps\tthem\tmaster\tthe\tconcepts\tof\tdata\tscience.\tKnowledge\tof\tPython\tis\tnot\n",
      "mandatory\tto\tfollow\tthis\tbook.\tNon-Python\tprogrammers\tcan\trefer\tto\tthe\tfirst\tchapter,\n",
      "which\tintroduces\tthe\tPython\tdata\tstructures\tand\tfunction\tprogramming\tconcepts.\n",
      "The\tearly\tchapters\tcover\tthe\tbasics\tof\tdata\tscience\tand\tthe\tlater\tchapters\tare\tdedicated\tto\n",
      "advanced\tdata\tscience\talgorithms.\tState-of-the-art\talgorithms\tthat\tare\tcurrently\tused\tin\n",
      "practice\tby\tleading\tdata\tscientists\tacross\tindustries\tincluding\tthe\tensemble\tmethods,\n",
      "random\tforest,\tregression\twith\tregularization,\tand\tothers\tare\tcovered\tin\tdetail.\tSome\tof\n",
      "the\talgorithms\tthat\tare\tpopular\tin\tacademia\tand\tstill\tnot\twidely\tintroduced\tto\tthe\n",
      "mainstream\tsuch\tas\trotational\tforest\tare\tcovered\tin\tdetail.\n",
      "With\ta\tlot\tof\tdo-it-yourself\tbooks\ton\tdata\tscience\ttoday\tin\tthe\tmarket,\twe\tfeel\tthat\tthere\tis\n",
      "a\tgap\tin\tterms\tof\tcovering\tthe\tright\tmix\tof\tmath\tphilosophy\tbehind\tthe\tdata\tscience\n",
      "\n"
     ]
    }
   ],
   "source": [
    "pagina = data.loadPage(0)\n",
    "texto = pagina.getText(\"text\")\n",
    "print(texto)"
   ]
  },
  {
   "cell_type": "code",
   "execution_count": 87,
   "metadata": {},
   "outputs": [],
   "source": [
    "analisis = fitz.open(\"C:/Users/usuario/Desktop/NLP/08_Marzo/python_books.zip/python_books/Python - Finance.pdf\")"
   ]
  },
  {
   "cell_type": "code",
   "execution_count": 88,
   "metadata": {
    "scrolled": true
   },
   "outputs": [
    {
     "name": "stdout",
     "output_type": "stream",
     "text": [
      "Número de páginas:  1\n",
      "Metados:  {'format': 'PDF 1.3', 'title': 'Python for Finance', 'author': 'Yuxing Yan', 'subject': '', 'keywords': '', 'creator': 'Adobe InDesign CS6 (Windows)', 'producer': 'macOS Version 11.2.1 (Build 20D74) Quartz PDFContext', 'creationDate': \"D:20210225223246Z00'00'\", 'modDate': \"D:20210225223246Z00'00'\", 'trapped': '', 'encryption': None}\n"
     ]
    }
   ],
   "source": [
    "print(\"Número de páginas: \", analisis.pageCount)\n",
    "print(\"Metados: \", analisis.metadata)"
   ]
  },
  {
   "cell_type": "code",
   "execution_count": 89,
   "metadata": {},
   "outputs": [
    {
     "name": "stdout",
     "output_type": "stream",
     "text": [
      "Preface\n",
      "It is our firm belief that an ambitious student major in finance should learn at least \n",
      "one computer language. The basic reason is that we have entered the Big Data era. \n",
      "In finance, we have a huge amount of data, and most of it is publically available free \n",
      "of charge. To use such rich sources of data efficiently, we need a tool. Among many \n",
      "potential candidates, Python is one of the best choices.\n",
      "Why Python?\n",
      "There are various reasons that Python should be used. Firstly, Python is free in terms \n",
      "of license. Python is available for all major operating systems, such as Windows, \n",
      "Linux/Unix, OS/2, Mac, and Amiga, among others. Being free has many benefits. \n",
      "When students graduate, they could apply what they have learned wherever they \n",
      "go. This is true for the financial community as well. In contrast, this is not true for \n",
      "SAS and MATLAB. Secondly, Python is powerful, flexible, and easy to learn. It is \n",
      "capable of solving almost all our financial and economic estimations. Thirdly, we \n",
      "could apply Python to Big Data. Dasgupta (2013) argues that R and Python are two \n",
      "of the most popular open source programming languages for data analysis. Fourthly, \n",
      "there are many useful modules in Python. Each model is developed for a special \n",
      "purpose. In this book, we focus on NumPy, SciPy, Matplotlib, Statsmodels, and \n",
      "Pandas modules.\n",
      "\n"
     ]
    }
   ],
   "source": [
    "pagina = analisis.loadPage(0)\n",
    "texto = pagina.getText(\"text\")\n",
    "print(texto)"
   ]
  },
  {
   "cell_type": "code",
   "execution_count": 96,
   "metadata": {},
   "outputs": [
    {
     "name": "stdout",
     "output_type": "stream",
     "text": [
      "223\n"
     ]
    }
   ],
   "source": [
    "# Python - Finance.pdf # \n",
    "\n",
    "pagina = analisis.loadPage(0)\n",
    "texto = pagina.getText(\"text\")\n",
    "arrayTexto=texto.split(' ')\n",
    "catidadPalabras=len(arrayTexto)\n",
    "print(catidadPalabras)"
   ]
  },
  {
   "cell_type": "code",
   "execution_count": 101,
   "metadata": {},
   "outputs": [
    {
     "name": "stdout",
     "output_type": "stream",
     "text": [
      "252\n"
     ]
    }
   ],
   "source": [
    "# Python - AWS.pdf #\n",
    "\n",
    "paginaDoc = documento.loadPage(0)\n",
    "textoDoc = paginaDoc.getText(\"text\")\n",
    "arrayTextoDoc=textoDoc.split(' ')\n",
    "catidadPalabrasDoc=len(arrayTextoDoc)\n",
    "print(catidadPalabrasDoc)"
   ]
  },
  {
   "cell_type": "code",
   "execution_count": 103,
   "metadata": {},
   "outputs": [
    {
     "name": "stdout",
     "output_type": "stream",
     "text": [
      "495\n"
     ]
    }
   ],
   "source": [
    "# Python  Data Science Cookbook.pdf#\n",
    "\n",
    "paginaData = data.loadPage(0)\n",
    "textoData = paginaData.getText(\"text\")\n",
    "arrayTextoData=textoData.split('\t')\n",
    "catidadPalabrasData=len(arrayTextoData)\n",
    "print(catidadPalabrasData)"
   ]
  },
  {
   "cell_type": "code",
   "execution_count": 104,
   "metadata": {},
   "outputs": [
    {
     "name": "stdout",
     "output_type": "stream",
     "text": [
      "Rta// El documento que tiene mayor número de palabras es Python  Data Science Cookbook.pdf con un total de 495.\n"
     ]
    }
   ],
   "source": [
    "# ¿Cuál archivo tiene el mayor número de palabras?\" #\n",
    "\n",
    "print(\"Rta// El documento que tiene mayor número de palabras es Python  Data Science Cookbook.pdf con un total de 495.\")\n",
    "\n"
   ]
  }
 ],
 "metadata": {
  "kernelspec": {
   "display_name": "Python 3",
   "language": "python",
   "name": "python3"
  },
  "language_info": {
   "codemirror_mode": {
    "name": "ipython",
    "version": 3
   },
   "file_extension": ".py",
   "mimetype": "text/x-python",
   "name": "python",
   "nbconvert_exporter": "python",
   "pygments_lexer": "ipython3",
   "version": "3.8.3"
  }
 },
 "nbformat": 4,
 "nbformat_minor": 4
}
